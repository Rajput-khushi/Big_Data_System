{
  "nbformat": 4,
  "nbformat_minor": 0,
  "metadata": {
    "colab": {
      "provenance": []
    },
    "kernelspec": {
      "name": "python3",
      "display_name": "Python 3"
    },
    "language_info": {
      "name": "python"
    }
  },
  "cells": [
    {
      "cell_type": "code",
      "execution_count": 1,
      "metadata": {
        "colab": {
          "base_uri": "https://localhost:8080/"
        },
        "id": "rpLoQLgXlKFF",
        "outputId": "32cc3039-affa-4375-b920-e645c2238738"
      },
      "outputs": [
        {
          "output_type": "stream",
          "name": "stdout",
          "text": [
            "Requirement already satisfied: pyspark in /usr/local/lib/python3.11/dist-packages (3.5.1)\n",
            "Requirement already satisfied: py4j==0.10.9.7 in /usr/local/lib/python3.11/dist-packages (from pyspark) (0.10.9.7)\n"
          ]
        }
      ],
      "source": [
        "# Install PySpark\n",
        "!pip install pyspark"
      ]
    },
    {
      "cell_type": "code",
      "source": [
        "# Import PySpark module\n",
        "import pyspark"
      ],
      "metadata": {
        "id": "htMTmM-3lL_T"
      },
      "execution_count": 2,
      "outputs": []
    },
    {
      "cell_type": "code",
      "source": [
        "from pyspark.sql import SparkSession\n",
        "spark = SparkSession.builder.appName(\"pyspark\").getOrCreate()"
      ],
      "metadata": {
        "id": "qJL3pznllRYx"
      },
      "execution_count": 3,
      "outputs": []
    },
    {
      "cell_type": "code",
      "source": [
        "# Read CSV file without specifying header\n",
        "df = spark.read.csv(\"/content/College_Students.csv\")\n",
        "df.show()"
      ],
      "metadata": {
        "colab": {
          "base_uri": "https://localhost:8080/"
        },
        "id": "yr1_kki5lTwI",
        "outputId": "7863d213-ecae-4232-b963-fd88c7fcb368"
      },
      "execution_count": 4,
      "outputs": [
        {
          "output_type": "stream",
          "name": "stdout",
          "text": [
            "+----------+--------------+-----------------+--------+--------------+---------+------+---+---------+---------------+-----------+-----------------+\n",
            "|       _c0|           _c1|              _c2|     _c3|           _c4|      _c5|   _c6|_c7|      _c8|            _c9|       _c10|             _c11|\n",
            "+----------+--------------+-----------------+--------+--------------+---------+------+---+---------+---------------+-----------+-----------------+\n",
            "|Student_ID|          Name|           Course|Semester|Attendance (%)|Marks (%)|Gender|Age|     City|Hostel Resident|Club Member|Internship Status|\n",
            "|      S001|   Aditi Verma|B.Sc Data Science|       2|            92|       85|  Male| 20|   Mumbai|            Yes|         No|        Completed|\n",
            "|      S002|   Rahul Mehta|            B.Com|       4|            78|       73|  Male| 24|  Kolkata|             No|        Yes|      Not Started|\n",
            "|      S003|   Sneha Gupta|       B.Tech CSE|       6|            88|       81|Female| 24|   Jaipur|             No|        Yes|        Completed|\n",
            "|      S004|    Aman Singh|              BBA|       2|            65|       62|  Male| 21|Hyderabad|             No|         No|        Completed|\n",
            "|      S005|    Priya Nair|       B.Sc Maths|       1|            96|       91|Female| 19|    Delhi|             No|         No|          Ongoing|\n",
            "|      S006|    Mohit Rana|              BCA|       3|            84|       76|  Male| 24|Bangalore|             No|        Yes|        Completed|\n",
            "|      S007|   Simran Kaur|        B.Tech IT|       5|            73|       70|  Male| 20|Bangalore|             No|         No|        Completed|\n",
            "|      S008|   Kunal Joshi|     B.Sc Physics|       2|            90|       88|  Male| 20|Bangalore|             No|         No|      Not Started|\n",
            "|      S009|  Tanya Sharma|            B.Com|       4|            81|       79|  Male| 24|  Kolkata|            Yes|         No|      Not Started|\n",
            "|      S010|     Arjun Rao|              BBA|       1|            77|       69|Female| 22|    Delhi|             No|        Yes|        Completed|\n",
            "|      S011|      Riya Das|       B.Tech CSE|       6|            89|       87|Female| 18|  Kolkata|             No|        Yes|      Not Started|\n",
            "|      S012|  Deepak Yadav|   B.Sc Chemistry|       2|            74|       68|  Male| 18|  Chennai|             No|         No|          Ongoing|\n",
            "|      S013|   Neha Thakur|B.Sc Data Science|       3|            91|       83|  Male| 21|   Mumbai|            Yes|         No|          Ongoing|\n",
            "|      S014|Kabir Malhotra|            B.Com|       5|            68|       65|Female| 24|  Chennai|             No|        Yes|        Completed|\n",
            "|      S015|   Isha Kapoor|              BBA|       2|            85|       72|  Male| 20|  Chennai|            Yes|        Yes|        Completed|\n",
            "|      S016|   Aditya Jain|        B.Tech IT|       6|            93|       89|  Male| 22|  Kolkata|            Yes|        Yes|      Not Started|\n",
            "|      S017|   Sakshi Rane|              BCA|       3|            86|       78|  Male| 20|    Delhi|            Yes|         No|        Completed|\n",
            "|      S018|   Varun Patel|       B.Sc Maths|       1|            82|       75|Female| 21|   Jaipur|            Yes|        Yes|        Completed|\n",
            "|      S019|    Meera Iyer|     B.Sc Physics|       2|            94|       90|Female| 21|   Mumbai|             No|         No|          Ongoing|\n",
            "+----------+--------------+-----------------+--------+--------------+---------+------+---+---------+---------------+-----------+-----------------+\n",
            "only showing top 20 rows\n",
            "\n"
          ]
        }
      ]
    },
    {
      "cell_type": "code",
      "source": [
        "# Read CSV with header option set to True\n",
        "df = spark.read.option(\"header\", True).csv(\"/content/College_Students.csv\")\n",
        "df.show()"
      ],
      "metadata": {
        "colab": {
          "base_uri": "https://localhost:8080/"
        },
        "id": "xcmHTK7blmWZ",
        "outputId": "a13ea381-9e6d-4488-f35e-a8b48d0de3b5"
      },
      "execution_count": 5,
      "outputs": [
        {
          "output_type": "stream",
          "name": "stdout",
          "text": [
            "+----------+--------------+-----------------+--------+--------------+---------+------+---+---------+---------------+-----------+-----------------+\n",
            "|Student_ID|          Name|           Course|Semester|Attendance (%)|Marks (%)|Gender|Age|     City|Hostel Resident|Club Member|Internship Status|\n",
            "+----------+--------------+-----------------+--------+--------------+---------+------+---+---------+---------------+-----------+-----------------+\n",
            "|      S001|   Aditi Verma|B.Sc Data Science|       2|            92|       85|  Male| 20|   Mumbai|            Yes|         No|        Completed|\n",
            "|      S002|   Rahul Mehta|            B.Com|       4|            78|       73|  Male| 24|  Kolkata|             No|        Yes|      Not Started|\n",
            "|      S003|   Sneha Gupta|       B.Tech CSE|       6|            88|       81|Female| 24|   Jaipur|             No|        Yes|        Completed|\n",
            "|      S004|    Aman Singh|              BBA|       2|            65|       62|  Male| 21|Hyderabad|             No|         No|        Completed|\n",
            "|      S005|    Priya Nair|       B.Sc Maths|       1|            96|       91|Female| 19|    Delhi|             No|         No|          Ongoing|\n",
            "|      S006|    Mohit Rana|              BCA|       3|            84|       76|  Male| 24|Bangalore|             No|        Yes|        Completed|\n",
            "|      S007|   Simran Kaur|        B.Tech IT|       5|            73|       70|  Male| 20|Bangalore|             No|         No|        Completed|\n",
            "|      S008|   Kunal Joshi|     B.Sc Physics|       2|            90|       88|  Male| 20|Bangalore|             No|         No|      Not Started|\n",
            "|      S009|  Tanya Sharma|            B.Com|       4|            81|       79|  Male| 24|  Kolkata|            Yes|         No|      Not Started|\n",
            "|      S010|     Arjun Rao|              BBA|       1|            77|       69|Female| 22|    Delhi|             No|        Yes|        Completed|\n",
            "|      S011|      Riya Das|       B.Tech CSE|       6|            89|       87|Female| 18|  Kolkata|             No|        Yes|      Not Started|\n",
            "|      S012|  Deepak Yadav|   B.Sc Chemistry|       2|            74|       68|  Male| 18|  Chennai|             No|         No|          Ongoing|\n",
            "|      S013|   Neha Thakur|B.Sc Data Science|       3|            91|       83|  Male| 21|   Mumbai|            Yes|         No|          Ongoing|\n",
            "|      S014|Kabir Malhotra|            B.Com|       5|            68|       65|Female| 24|  Chennai|             No|        Yes|        Completed|\n",
            "|      S015|   Isha Kapoor|              BBA|       2|            85|       72|  Male| 20|  Chennai|            Yes|        Yes|        Completed|\n",
            "|      S016|   Aditya Jain|        B.Tech IT|       6|            93|       89|  Male| 22|  Kolkata|            Yes|        Yes|      Not Started|\n",
            "|      S017|   Sakshi Rane|              BCA|       3|            86|       78|  Male| 20|    Delhi|            Yes|         No|        Completed|\n",
            "|      S018|   Varun Patel|       B.Sc Maths|       1|            82|       75|Female| 21|   Jaipur|            Yes|        Yes|        Completed|\n",
            "|      S019|    Meera Iyer|     B.Sc Physics|       2|            94|       90|Female| 21|   Mumbai|             No|         No|          Ongoing|\n",
            "|      S020|    Nikhil Roy|       B.Tech CSE|       6|            70|       67|Female| 23|Hyderabad|             No|         No|      Not Started|\n",
            "+----------+--------------+-----------------+--------+--------------+---------+------+---+---------+---------------+-----------+-----------------+\n",
            "\n"
          ]
        }
      ]
    },
    {
      "cell_type": "code",
      "source": [
        "# Check column data types (they are still all strings without schema inference)\n",
        "df.printSchema()"
      ],
      "metadata": {
        "colab": {
          "base_uri": "https://localhost:8080/"
        },
        "id": "Yzux5-q2lv1q",
        "outputId": "29aea9c0-864d-4003-ef20-baf8b8acae28"
      },
      "execution_count": 6,
      "outputs": [
        {
          "output_type": "stream",
          "name": "stdout",
          "text": [
            "root\n",
            " |-- Student_ID: string (nullable = true)\n",
            " |-- Name: string (nullable = true)\n",
            " |-- Course: string (nullable = true)\n",
            " |-- Semester: string (nullable = true)\n",
            " |-- Attendance (%): string (nullable = true)\n",
            " |-- Marks (%): string (nullable = true)\n",
            " |-- Gender: string (nullable = true)\n",
            " |-- Age: string (nullable = true)\n",
            " |-- City: string (nullable = true)\n",
            " |-- Hostel Resident: string (nullable = true)\n",
            " |-- Club Member: string (nullable = true)\n",
            " |-- Internship Status: string (nullable = true)\n",
            "\n"
          ]
        }
      ]
    },
    {
      "cell_type": "code",
      "source": [
        "# Read CSV with both header and schema inference\n",
        "df = spark.read.option(\"header\", True).option(\"inferschema\", True).csv(\"/content/College_Students.csv\")\n",
        "df.printSchema()"
      ],
      "metadata": {
        "colab": {
          "base_uri": "https://localhost:8080/"
        },
        "id": "DaLQOD8ElzEs",
        "outputId": "0f1810e0-cbf2-4586-8e04-3021501b4215"
      },
      "execution_count": 7,
      "outputs": [
        {
          "output_type": "stream",
          "name": "stdout",
          "text": [
            "root\n",
            " |-- Student_ID: string (nullable = true)\n",
            " |-- Name: string (nullable = true)\n",
            " |-- Course: string (nullable = true)\n",
            " |-- Semester: integer (nullable = true)\n",
            " |-- Attendance (%): integer (nullable = true)\n",
            " |-- Marks (%): integer (nullable = true)\n",
            " |-- Gender: string (nullable = true)\n",
            " |-- Age: integer (nullable = true)\n",
            " |-- City: string (nullable = true)\n",
            " |-- Hostel Resident: string (nullable = true)\n",
            " |-- Club Member: string (nullable = true)\n",
            " |-- Internship Status: string (nullable = true)\n",
            "\n"
          ]
        }
      ]
    },
    {
      "cell_type": "code",
      "source": [
        "# Show statistical summary (count, mean, stddev, min, max)\n",
        "df.describe().show()"
      ],
      "metadata": {
        "colab": {
          "base_uri": "https://localhost:8080/"
        },
        "id": "5r9pFaT6l5vC",
        "outputId": "fb0b0b1a-7edf-4bd5-81a2-6f42a061bd65"
      },
      "execution_count": 8,
      "outputs": [
        {
          "output_type": "stream",
          "name": "stdout",
          "text": [
            "+-------+----------+-----------+------+------------------+-----------------+-----------------+------+------------------+---------+---------------+-----------+-----------------+\n",
            "|summary|Student_ID|       Name|Course|          Semester|   Attendance (%)|        Marks (%)|Gender|               Age|     City|Hostel Resident|Club Member|Internship Status|\n",
            "+-------+----------+-----------+------+------------------+-----------------+-----------------+------+------------------+---------+---------------+-----------+-----------------+\n",
            "|  count|        20|         20|    20|                20|               20|               20|    20|                20|       20|             20|         20|               20|\n",
            "|   mean|      NULL|       NULL|  NULL|               3.3|             82.8|             77.4|  NULL|              21.3|     NULL|           NULL|       NULL|             NULL|\n",
            "| stddev|      NULL|       NULL|  NULL|1.8093325317714033|9.242920477174321|9.051897155031268|  NULL|2.0026298499197184|     NULL|           NULL|       NULL|             NULL|\n",
            "|    min|      S001|Aditi Verma| B.Com|                 1|               65|               62|Female|                18|Bangalore|             No|         No|        Completed|\n",
            "|    max|      S020|Varun Patel|   BCA|                 6|               96|               91|  Male|                24|   Mumbai|            Yes|        Yes|          Ongoing|\n",
            "+-------+----------+-----------+------+------------------+-----------------+-----------------+------+------------------+---------+---------------+-----------+-----------------+\n",
            "\n"
          ]
        }
      ]
    },
    {
      "cell_type": "code",
      "source": [
        "# More detailed summary statistics\n",
        "df.summary().show()"
      ],
      "metadata": {
        "colab": {
          "base_uri": "https://localhost:8080/"
        },
        "id": "S1pJ1Ttrl78R",
        "outputId": "61ae76f3-d1b9-448b-acff-719025cecccb"
      },
      "execution_count": 9,
      "outputs": [
        {
          "output_type": "stream",
          "name": "stdout",
          "text": [
            "+-------+----------+-----------+------+------------------+-----------------+-----------------+------+------------------+---------+---------------+-----------+-----------------+\n",
            "|summary|Student_ID|       Name|Course|          Semester|   Attendance (%)|        Marks (%)|Gender|               Age|     City|Hostel Resident|Club Member|Internship Status|\n",
            "+-------+----------+-----------+------+------------------+-----------------+-----------------+------+------------------+---------+---------------+-----------+-----------------+\n",
            "|  count|        20|         20|    20|                20|               20|               20|    20|                20|       20|             20|         20|               20|\n",
            "|   mean|      NULL|       NULL|  NULL|               3.3|             82.8|             77.4|  NULL|              21.3|     NULL|           NULL|       NULL|             NULL|\n",
            "| stddev|      NULL|       NULL|  NULL|1.8093325317714033|9.242920477174321|9.051897155031268|  NULL|2.0026298499197184|     NULL|           NULL|       NULL|             NULL|\n",
            "|    min|      S001|Aditi Verma| B.Com|                 1|               65|               62|Female|                18|Bangalore|             No|         No|        Completed|\n",
            "|    25%|      NULL|       NULL|  NULL|                 2|               74|               69|  NULL|                20|     NULL|           NULL|       NULL|             NULL|\n",
            "|    50%|      NULL|       NULL|  NULL|                 3|               84|               76|  NULL|                21|     NULL|           NULL|       NULL|             NULL|\n",
            "|    75%|      NULL|       NULL|  NULL|                 5|               90|               85|  NULL|                23|     NULL|           NULL|       NULL|             NULL|\n",
            "|    max|      S020|Varun Patel|   BCA|                 6|               96|               91|  Male|                24|   Mumbai|            Yes|        Yes|          Ongoing|\n",
            "+-------+----------+-----------+------+------------------+-----------------+-----------------+------+------------------+---------+---------------+-----------+-----------------+\n",
            "\n"
          ]
        }
      ]
    },
    {
      "cell_type": "code",
      "source": [],
      "metadata": {
        "id": "8AcUlabxl-KQ"
      },
      "execution_count": null,
      "outputs": []
    }
  ]
}